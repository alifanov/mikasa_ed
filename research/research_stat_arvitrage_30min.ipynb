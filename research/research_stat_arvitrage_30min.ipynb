{
 "cells": [
  {
   "cell_type": "markdown",
   "metadata": {},
   "source": [
    "# Research stat arbitrage between ETC, LTC in comparison with BTC"
   ]
  },
  {
   "cell_type": "code",
   "execution_count": 1,
   "metadata": {},
   "outputs": [
    {
     "name": "stderr",
     "output_type": "stream",
     "text": [
      "/home/vampire/PycharmProjects/mikasa_ed/venv/lib/python3.5/site-packages/statsmodels/compat/pandas.py:56: FutureWarning: The pandas.core.datetools module is deprecated and will be removed in a future version. Please use the pandas.tseries module instead.\n",
      "  from pandas.core import datetools\n"
     ]
    }
   ],
   "source": [
    "import pandas as pd\n",
    "import statsmodels.api as sm\n",
    "pd.set_option('display.precision', 10)\n",
    "\n",
    "import matplotlib.pyplot as plt"
   ]
  },
  {
   "cell_type": "code",
   "execution_count": 2,
   "metadata": {},
   "outputs": [
    {
     "data": {
      "text/html": [
       "<div>\n",
       "<style>\n",
       "    .dataframe thead tr:only-child th {\n",
       "        text-align: right;\n",
       "    }\n",
       "\n",
       "    .dataframe thead th {\n",
       "        text-align: left;\n",
       "    }\n",
       "\n",
       "    .dataframe tbody tr th {\n",
       "        vertical-align: top;\n",
       "    }\n",
       "</style>\n",
       "<table border=\"1\" class=\"dataframe\">\n",
       "  <thead>\n",
       "    <tr style=\"text-align: right;\">\n",
       "      <th></th>\n",
       "      <th>open</th>\n",
       "      <th>high</th>\n",
       "      <th>low</th>\n",
       "      <th>close</th>\n",
       "    </tr>\n",
       "    <tr>\n",
       "      <th>datetime</th>\n",
       "      <th></th>\n",
       "      <th></th>\n",
       "      <th></th>\n",
       "      <th></th>\n",
       "    </tr>\n",
       "  </thead>\n",
       "  <tbody>\n",
       "    <tr>\n",
       "      <th>1473507000</th>\n",
       "      <td>0.00228397</td>\n",
       "      <td>0.00229631</td>\n",
       "      <td>0.00227533</td>\n",
       "      <td>0.00229055</td>\n",
       "    </tr>\n",
       "    <tr>\n",
       "      <th>1473508800</th>\n",
       "      <td>0.00229055</td>\n",
       "      <td>0.00229631</td>\n",
       "      <td>0.00228104</td>\n",
       "      <td>0.00228104</td>\n",
       "    </tr>\n",
       "    <tr>\n",
       "      <th>1473510600</th>\n",
       "      <td>0.00228104</td>\n",
       "      <td>0.00230000</td>\n",
       "      <td>0.00228104</td>\n",
       "      <td>0.00228812</td>\n",
       "    </tr>\n",
       "    <tr>\n",
       "      <th>1473512400</th>\n",
       "      <td>0.00228850</td>\n",
       "      <td>0.00229397</td>\n",
       "      <td>0.00227278</td>\n",
       "      <td>0.00228395</td>\n",
       "    </tr>\n",
       "    <tr>\n",
       "      <th>1473514200</th>\n",
       "      <td>0.00227622</td>\n",
       "      <td>0.00228002</td>\n",
       "      <td>0.00222037</td>\n",
       "      <td>0.00223918</td>\n",
       "    </tr>\n",
       "  </tbody>\n",
       "</table>\n",
       "</div>"
      ],
      "text/plain": [
       "                  open        high         low       close\n",
       "datetime                                                  \n",
       "1473507000  0.00228397  0.00229631  0.00227533  0.00229055\n",
       "1473508800  0.00229055  0.00229631  0.00228104  0.00228104\n",
       "1473510600  0.00228104  0.00230000  0.00228104  0.00228812\n",
       "1473512400  0.00228850  0.00229397  0.00227278  0.00228395\n",
       "1473514200  0.00227622  0.00228002  0.00222037  0.00223918"
      ]
     },
     "execution_count": 2,
     "metadata": {},
     "output_type": "execute_result"
    }
   ],
   "source": [
    "df_etc = pd.read_csv('../datasets/30min/BTC_ETC.csv', index_col=0)\n",
    "df_etc.head()"
   ]
  },
  {
   "cell_type": "code",
   "execution_count": 3,
   "metadata": {},
   "outputs": [
    {
     "data": {
      "text/html": [
       "<div>\n",
       "<style>\n",
       "    .dataframe thead tr:only-child th {\n",
       "        text-align: right;\n",
       "    }\n",
       "\n",
       "    .dataframe thead th {\n",
       "        text-align: left;\n",
       "    }\n",
       "\n",
       "    .dataframe tbody tr th {\n",
       "        vertical-align: top;\n",
       "    }\n",
       "</style>\n",
       "<table border=\"1\" class=\"dataframe\">\n",
       "  <thead>\n",
       "    <tr style=\"text-align: right;\">\n",
       "      <th></th>\n",
       "      <th>open</th>\n",
       "      <th>high</th>\n",
       "      <th>low</th>\n",
       "      <th>close</th>\n",
       "    </tr>\n",
       "    <tr>\n",
       "      <th>datetime</th>\n",
       "      <th></th>\n",
       "      <th></th>\n",
       "      <th></th>\n",
       "      <th></th>\n",
       "    </tr>\n",
       "  </thead>\n",
       "  <tbody>\n",
       "    <tr>\n",
       "      <th>1473507000</th>\n",
       "      <td>0.00639002</td>\n",
       "      <td>0.00640070</td>\n",
       "      <td>0.00639</td>\n",
       "      <td>0.00640028</td>\n",
       "    </tr>\n",
       "    <tr>\n",
       "      <th>1473508800</th>\n",
       "      <td>0.00640028</td>\n",
       "      <td>0.00640072</td>\n",
       "      <td>0.00640</td>\n",
       "      <td>0.00640071</td>\n",
       "    </tr>\n",
       "    <tr>\n",
       "      <th>1473510600</th>\n",
       "      <td>0.00640000</td>\n",
       "      <td>0.00640769</td>\n",
       "      <td>0.00639</td>\n",
       "      <td>0.00639681</td>\n",
       "    </tr>\n",
       "    <tr>\n",
       "      <th>1473512400</th>\n",
       "      <td>0.00639660</td>\n",
       "      <td>0.00640805</td>\n",
       "      <td>0.00639</td>\n",
       "      <td>0.00640805</td>\n",
       "    </tr>\n",
       "    <tr>\n",
       "      <th>1473514200</th>\n",
       "      <td>0.00639001</td>\n",
       "      <td>0.00640936</td>\n",
       "      <td>0.00639</td>\n",
       "      <td>0.00639007</td>\n",
       "    </tr>\n",
       "  </tbody>\n",
       "</table>\n",
       "</div>"
      ],
      "text/plain": [
       "                  open        high      low       close\n",
       "datetime                                               \n",
       "1473507000  0.00639002  0.00640070  0.00639  0.00640028\n",
       "1473508800  0.00640028  0.00640072  0.00640  0.00640071\n",
       "1473510600  0.00640000  0.00640769  0.00639  0.00639681\n",
       "1473512400  0.00639660  0.00640805  0.00639  0.00640805\n",
       "1473514200  0.00639001  0.00640936  0.00639  0.00639007"
      ]
     },
     "execution_count": 3,
     "metadata": {},
     "output_type": "execute_result"
    }
   ],
   "source": [
    "df_ltc = pd.read_csv('../datasets/30min/BTC_LTC.csv', index_col=0)\n",
    "df_ltc.head()"
   ]
  },
  {
   "cell_type": "code",
   "execution_count": 4,
   "metadata": {},
   "outputs": [
    {
     "data": {
      "text/plain": [
       "0.85712434340441712"
      ]
     },
     "execution_count": 4,
     "metadata": {},
     "output_type": "execute_result"
    }
   ],
   "source": [
    "df_etc['open'].corr(df_ltc['open'])"
   ]
  },
  {
   "cell_type": "code",
   "execution_count": 5,
   "metadata": {},
   "outputs": [
    {
     "data": {
      "image/png": "[encoded data removed]",
      "text/plain": [
       "<matplotlib.figure.Figure at 0x7f09a837d828>"
      ]
     },
     "metadata": {},
     "output_type": "display_data"
    }
   ],
   "source": [
    "X = df_etc['close'].values\n",
    "Y = df_ltc['close'].values\n",
    "Z = X - Y\n",
    "plt.plot(X)\n",
    "plt.plot(Y)\n",
    "plt.plot(Z)\n",
    "plt.show()"
   ]
  },
  {
   "cell_type": "code",
   "execution_count": 6,
   "metadata": {
    "collapsed": true
   },
   "outputs": [],
   "source": [
    "hedge_ratio = sm.OLS(Y, X).fit()"
   ]
  },
  {
   "cell_type": "code",
   "execution_count": 7,
   "metadata": {
    "collapsed": true
   },
   "outputs": [],
   "source": [
    "hedge_ratio = hedge_ratio.params[0]"
   ]
  },
  {
   "cell_type": "code",
   "execution_count": 8,
   "metadata": {
    "collapsed": true
   },
   "outputs": [],
   "source": [
    "spread = Y - hedge_ratio * X"
   ]
  },
  {
   "cell_type": "code",
   "execution_count": 9,
   "metadata": {},
   "outputs": [
    {
     "data": {
      "text/plain": [
       "(17520,)"
      ]
     },
     "execution_count": 9,
     "metadata": {},
     "output_type": "execute_result"
    }
   ],
   "source": [
    "spread.shape"
   ]
  },
  {
   "cell_type": "code",
   "execution_count": 10,
   "metadata": {},
   "outputs": [
    {
     "data": {
      "image/png": "[encoded data removed]",
      "text/plain": [
       "<matplotlib.figure.Figure at 0x7f09a837d2b0>"
      ]
     },
     "metadata": {},
     "output_type": "display_data"
    }
   ],
   "source": [
    "plt.plot(spread)\n",
    "plt.show()"
   ]
  },
  {
   "cell_type": "code",
   "execution_count": 11,
   "metadata": {
    "collapsed": true
   },
   "outputs": [],
   "source": [
    "zscore = ((spread - spread.mean()) / spread.std())"
   ]
  },
  {
   "cell_type": "code",
   "execution_count": 12,
   "metadata": {},
   "outputs": [
    {
     "data": {
      "image/png": "[encoded data removed]",
      "text/plain": [
       "<matplotlib.figure.Figure at 0x7f09a622d898>"
      ]
     },
     "metadata": {},
     "output_type": "display_data"
    }
   ],
   "source": [
    "plt.plot(zscore)\n",
    "plt.axhline(0)\n",
    "plt.show()"
   ]
  },
  {
   "cell_type": "code",
   "execution_count": null,
   "metadata": {
    "collapsed": true
   },
   "outputs": [],
   "source": []
  }
 ],
 "metadata": {
  "kernelspec": {
   "display_name": "Python 3",
   "language": "python",
   "name": "python3"
  },
  "language_info": {
   "codemirror_mode": {
    "name": "ipython",
    "version": 3
   },
   "file_extension": ".py",
   "mimetype": "text/x-python",
   "name": "python",
   "nbconvert_exporter": "python",
   "pygments_lexer": "ipython3",
   "version": "3.5.3"
  }
 },
 "nbformat": 4,
 "nbformat_minor": 2
}
