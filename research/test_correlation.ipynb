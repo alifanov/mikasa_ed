{
 "cells": [
  {
   "cell_type": "code",
   "execution_count": 55,
   "metadata": {
    "collapsed": true
   },
   "outputs": [],
   "source": [
    "import pandas as pd\n",
    "import matplotlib.pyplot as plt"
   ]
  },
  {
   "cell_type": "code",
   "execution_count": 48,
   "metadata": {
    "collapsed": true
   },
   "outputs": [],
   "source": [
    "period = '5min'"
   ]
  },
  {
   "cell_type": "code",
   "execution_count": 49,
   "metadata": {},
   "outputs": [
    {
     "data": {
      "text/html": [
       "<div>\n",
       "<style>\n",
       "    .dataframe thead tr:only-child th {\n",
       "        text-align: right;\n",
       "    }\n",
       "\n",
       "    .dataframe thead th {\n",
       "        text-align: left;\n",
       "    }\n",
       "\n",
       "    .dataframe tbody tr th {\n",
       "        vertical-align: top;\n",
       "    }\n",
       "</style>\n",
       "<table border=\"1\" class=\"dataframe\">\n",
       "  <thead>\n",
       "    <tr style=\"text-align: right;\">\n",
       "      <th></th>\n",
       "      <th>open</th>\n",
       "      <th>high</th>\n",
       "      <th>low</th>\n",
       "      <th>close</th>\n",
       "      <th>volume</th>\n",
       "    </tr>\n",
       "    <tr>\n",
       "      <th>datetime</th>\n",
       "      <th></th>\n",
       "      <th></th>\n",
       "      <th></th>\n",
       "      <th></th>\n",
       "      <th></th>\n",
       "    </tr>\n",
       "  </thead>\n",
       "  <tbody>\n",
       "    <tr>\n",
       "      <th>1474205100</th>\n",
       "      <td>0.002157</td>\n",
       "      <td>0.002166</td>\n",
       "      <td>0.002157</td>\n",
       "      <td>0.002157</td>\n",
       "      <td>1.445601</td>\n",
       "    </tr>\n",
       "    <tr>\n",
       "      <th>1474205400</th>\n",
       "      <td>0.002166</td>\n",
       "      <td>0.002167</td>\n",
       "      <td>0.002152</td>\n",
       "      <td>0.002166</td>\n",
       "      <td>6.873661</td>\n",
       "    </tr>\n",
       "    <tr>\n",
       "      <th>1474205700</th>\n",
       "      <td>0.002161</td>\n",
       "      <td>0.002166</td>\n",
       "      <td>0.002157</td>\n",
       "      <td>0.002166</td>\n",
       "      <td>0.183290</td>\n",
       "    </tr>\n",
       "    <tr>\n",
       "      <th>1474206000</th>\n",
       "      <td>0.002157</td>\n",
       "      <td>0.002166</td>\n",
       "      <td>0.002157</td>\n",
       "      <td>0.002164</td>\n",
       "      <td>0.052700</td>\n",
       "    </tr>\n",
       "    <tr>\n",
       "      <th>1474206300</th>\n",
       "      <td>0.002162</td>\n",
       "      <td>0.002168</td>\n",
       "      <td>0.002162</td>\n",
       "      <td>0.002168</td>\n",
       "      <td>3.065969</td>\n",
       "    </tr>\n",
       "  </tbody>\n",
       "</table>\n",
       "</div>"
      ],
      "text/plain": [
       "                open      high       low     close    volume\n",
       "datetime                                                    \n",
       "1474205100  0.002157  0.002166  0.002157  0.002157  1.445601\n",
       "1474205400  0.002166  0.002167  0.002152  0.002166  6.873661\n",
       "1474205700  0.002161  0.002166  0.002157  0.002166  0.183290\n",
       "1474206000  0.002157  0.002166  0.002157  0.002164  0.052700\n",
       "1474206300  0.002162  0.002168  0.002162  0.002168  3.065969"
      ]
     },
     "execution_count": 49,
     "metadata": {},
     "output_type": "execute_result"
    }
   ],
   "source": [
    "df_btc_etc = pd.read_csv('../datasets/{}/BTC_ETC.csv'.format(period), header=0, index_col=0)\n",
    "df_btc_etc.head()"
   ]
  },
  {
   "cell_type": "code",
   "execution_count": 50,
   "metadata": {},
   "outputs": [
    {
     "data": {
      "text/html": [
       "<div>\n",
       "<style>\n",
       "    .dataframe thead tr:only-child th {\n",
       "        text-align: right;\n",
       "    }\n",
       "\n",
       "    .dataframe thead th {\n",
       "        text-align: left;\n",
       "    }\n",
       "\n",
       "    .dataframe tbody tr th {\n",
       "        vertical-align: top;\n",
       "    }\n",
       "</style>\n",
       "<table border=\"1\" class=\"dataframe\">\n",
       "  <thead>\n",
       "    <tr style=\"text-align: right;\">\n",
       "      <th></th>\n",
       "      <th>open</th>\n",
       "      <th>high</th>\n",
       "      <th>low</th>\n",
       "      <th>close</th>\n",
       "      <th>volume</th>\n",
       "    </tr>\n",
       "    <tr>\n",
       "      <th>datetime</th>\n",
       "      <th></th>\n",
       "      <th></th>\n",
       "      <th></th>\n",
       "      <th></th>\n",
       "      <th></th>\n",
       "    </tr>\n",
       "  </thead>\n",
       "  <tbody>\n",
       "    <tr>\n",
       "      <th>1474205100</th>\n",
       "      <td>0.006310</td>\n",
       "      <td>0.006310</td>\n",
       "      <td>0.006310</td>\n",
       "      <td>0.006310</td>\n",
       "      <td>3.170786</td>\n",
       "    </tr>\n",
       "    <tr>\n",
       "      <th>1474205400</th>\n",
       "      <td>0.006310</td>\n",
       "      <td>0.006310</td>\n",
       "      <td>0.006271</td>\n",
       "      <td>0.006300</td>\n",
       "      <td>2.315942</td>\n",
       "    </tr>\n",
       "    <tr>\n",
       "      <th>1474205700</th>\n",
       "      <td>0.006300</td>\n",
       "      <td>0.006300</td>\n",
       "      <td>0.006279</td>\n",
       "      <td>0.006279</td>\n",
       "      <td>0.026351</td>\n",
       "    </tr>\n",
       "    <tr>\n",
       "      <th>1474206000</th>\n",
       "      <td>0.006296</td>\n",
       "      <td>0.006296</td>\n",
       "      <td>0.006279</td>\n",
       "      <td>0.006296</td>\n",
       "      <td>0.028456</td>\n",
       "    </tr>\n",
       "    <tr>\n",
       "      <th>1474206300</th>\n",
       "      <td>0.006281</td>\n",
       "      <td>0.006300</td>\n",
       "      <td>0.006279</td>\n",
       "      <td>0.006300</td>\n",
       "      <td>0.008339</td>\n",
       "    </tr>\n",
       "  </tbody>\n",
       "</table>\n",
       "</div>"
      ],
      "text/plain": [
       "                open      high       low     close    volume\n",
       "datetime                                                    \n",
       "1474205100  0.006310  0.006310  0.006310  0.006310  3.170786\n",
       "1474205400  0.006310  0.006310  0.006271  0.006300  2.315942\n",
       "1474205700  0.006300  0.006300  0.006279  0.006279  0.026351\n",
       "1474206000  0.006296  0.006296  0.006279  0.006296  0.028456\n",
       "1474206300  0.006281  0.006300  0.006279  0.006300  0.008339"
      ]
     },
     "execution_count": 50,
     "metadata": {},
     "output_type": "execute_result"
    }
   ],
   "source": [
    "df_btc_ltc = pd.read_csv('../datasets/{}/BTC_LTC.csv'.format(period), header=0, index_col=0)\n",
    "df_btc_ltc.head()"
   ]
  },
  {
   "cell_type": "code",
   "execution_count": 51,
   "metadata": {},
   "outputs": [
    {
     "data": {
      "text/html": [
       "<div>\n",
       "<style>\n",
       "    .dataframe thead tr:only-child th {\n",
       "        text-align: right;\n",
       "    }\n",
       "\n",
       "    .dataframe thead th {\n",
       "        text-align: left;\n",
       "    }\n",
       "\n",
       "    .dataframe tbody tr th {\n",
       "        vertical-align: top;\n",
       "    }\n",
       "</style>\n",
       "<table border=\"1\" class=\"dataframe\">\n",
       "  <thead>\n",
       "    <tr style=\"text-align: right;\">\n",
       "      <th></th>\n",
       "      <th>open</th>\n",
       "      <th>high</th>\n",
       "      <th>low</th>\n",
       "      <th>close</th>\n",
       "      <th>volume</th>\n",
       "    </tr>\n",
       "    <tr>\n",
       "      <th>datetime</th>\n",
       "      <th></th>\n",
       "      <th></th>\n",
       "      <th></th>\n",
       "      <th></th>\n",
       "      <th></th>\n",
       "    </tr>\n",
       "  </thead>\n",
       "  <tbody>\n",
       "    <tr>\n",
       "      <th>1474205100</th>\n",
       "      <td>0.021000</td>\n",
       "      <td>0.021039</td>\n",
       "      <td>0.021000</td>\n",
       "      <td>0.021038</td>\n",
       "      <td>4.296642</td>\n",
       "    </tr>\n",
       "    <tr>\n",
       "      <th>1474205400</th>\n",
       "      <td>0.021042</td>\n",
       "      <td>0.021049</td>\n",
       "      <td>0.021038</td>\n",
       "      <td>0.021046</td>\n",
       "      <td>3.987229</td>\n",
       "    </tr>\n",
       "    <tr>\n",
       "      <th>1474205700</th>\n",
       "      <td>0.021042</td>\n",
       "      <td>0.021042</td>\n",
       "      <td>0.021000</td>\n",
       "      <td>0.021038</td>\n",
       "      <td>19.966953</td>\n",
       "    </tr>\n",
       "    <tr>\n",
       "      <th>1474206000</th>\n",
       "      <td>0.021025</td>\n",
       "      <td>0.021038</td>\n",
       "      <td>0.021000</td>\n",
       "      <td>0.021030</td>\n",
       "      <td>27.707384</td>\n",
       "    </tr>\n",
       "    <tr>\n",
       "      <th>1474206300</th>\n",
       "      <td>0.021001</td>\n",
       "      <td>0.021038</td>\n",
       "      <td>0.021001</td>\n",
       "      <td>0.021036</td>\n",
       "      <td>3.879610</td>\n",
       "    </tr>\n",
       "  </tbody>\n",
       "</table>\n",
       "</div>"
      ],
      "text/plain": [
       "                open      high       low     close     volume\n",
       "datetime                                                     \n",
       "1474205100  0.021000  0.021039  0.021000  0.021038   4.296642\n",
       "1474205400  0.021042  0.021049  0.021038  0.021046   3.987229\n",
       "1474205700  0.021042  0.021042  0.021000  0.021038  19.966953\n",
       "1474206000  0.021025  0.021038  0.021000  0.021030  27.707384\n",
       "1474206300  0.021001  0.021038  0.021001  0.021036   3.879610"
      ]
     },
     "execution_count": 51,
     "metadata": {},
     "output_type": "execute_result"
    }
   ],
   "source": [
    "df_btc_eth = pd.read_csv('../datasets/{}/BTC_ETH.csv'.format(period), header=0, index_col=0)\n",
    "df_btc_eth.head()"
   ]
  },
  {
   "cell_type": "code",
   "execution_count": 52,
   "metadata": {},
   "outputs": [
    {
     "data": {
      "text/html": [
       "<div>\n",
       "<style>\n",
       "    .dataframe thead tr:only-child th {\n",
       "        text-align: right;\n",
       "    }\n",
       "\n",
       "    .dataframe thead th {\n",
       "        text-align: left;\n",
       "    }\n",
       "\n",
       "    .dataframe tbody tr th {\n",
       "        vertical-align: top;\n",
       "    }\n",
       "</style>\n",
       "<table border=\"1\" class=\"dataframe\">\n",
       "  <thead>\n",
       "    <tr style=\"text-align: right;\">\n",
       "      <th></th>\n",
       "      <th>btc_etc</th>\n",
       "      <th>btc_ltc</th>\n",
       "      <th>btc_eth</th>\n",
       "    </tr>\n",
       "    <tr>\n",
       "      <th>datetime</th>\n",
       "      <th></th>\n",
       "      <th></th>\n",
       "      <th></th>\n",
       "    </tr>\n",
       "  </thead>\n",
       "  <tbody>\n",
       "    <tr>\n",
       "      <th>1474205100</th>\n",
       "      <td>0.002157</td>\n",
       "      <td>0.006310</td>\n",
       "      <td>0.021038</td>\n",
       "    </tr>\n",
       "    <tr>\n",
       "      <th>1474205400</th>\n",
       "      <td>0.002166</td>\n",
       "      <td>0.006300</td>\n",
       "      <td>0.021046</td>\n",
       "    </tr>\n",
       "    <tr>\n",
       "      <th>1474205700</th>\n",
       "      <td>0.002166</td>\n",
       "      <td>0.006279</td>\n",
       "      <td>0.021038</td>\n",
       "    </tr>\n",
       "    <tr>\n",
       "      <th>1474206000</th>\n",
       "      <td>0.002164</td>\n",
       "      <td>0.006296</td>\n",
       "      <td>0.021030</td>\n",
       "    </tr>\n",
       "    <tr>\n",
       "      <th>1474206300</th>\n",
       "      <td>0.002168</td>\n",
       "      <td>0.006300</td>\n",
       "      <td>0.021036</td>\n",
       "    </tr>\n",
       "  </tbody>\n",
       "</table>\n",
       "</div>"
      ],
      "text/plain": [
       "             btc_etc   btc_ltc   btc_eth\n",
       "datetime                                \n",
       "1474205100  0.002157  0.006310  0.021038\n",
       "1474205400  0.002166  0.006300  0.021046\n",
       "1474205700  0.002166  0.006279  0.021038\n",
       "1474206000  0.002164  0.006296  0.021030\n",
       "1474206300  0.002168  0.006300  0.021036"
      ]
     },
     "execution_count": 52,
     "metadata": {},
     "output_type": "execute_result"
    }
   ],
   "source": [
    "df = pd.concat([df_btc_etc['close'], df_btc_ltc['close'], df_btc_eth['close']], axis=1)\n",
    "df.columns = ['btc_etc', 'btc_ltc', 'btc_eth']\n",
    "df.head()"
   ]
  },
  {
   "cell_type": "code",
   "execution_count": 60,
   "metadata": {},
   "outputs": [
    {
     "data": {
      "text/html": [
       "<div>\n",
       "<style>\n",
       "    .dataframe thead tr:only-child th {\n",
       "        text-align: right;\n",
       "    }\n",
       "\n",
       "    .dataframe thead th {\n",
       "        text-align: left;\n",
       "    }\n",
       "\n",
       "    .dataframe tbody tr th {\n",
       "        vertical-align: top;\n",
       "    }\n",
       "</style>\n",
       "<table border=\"1\" class=\"dataframe\">\n",
       "  <thead>\n",
       "    <tr style=\"text-align: right;\">\n",
       "      <th></th>\n",
       "      <th>btc_etc</th>\n",
       "      <th>btc_ltc</th>\n",
       "      <th>btc_eth</th>\n",
       "    </tr>\n",
       "  </thead>\n",
       "  <tbody>\n",
       "    <tr>\n",
       "      <th>btc_etc</th>\n",
       "      <td>1.000000</td>\n",
       "      <td>0.858183</td>\n",
       "      <td>0.917553</td>\n",
       "    </tr>\n",
       "    <tr>\n",
       "      <th>btc_ltc</th>\n",
       "      <td>0.858183</td>\n",
       "      <td>1.000000</td>\n",
       "      <td>0.825271</td>\n",
       "    </tr>\n",
       "    <tr>\n",
       "      <th>btc_eth</th>\n",
       "      <td>0.917553</td>\n",
       "      <td>0.825271</td>\n",
       "      <td>1.000000</td>\n",
       "    </tr>\n",
       "  </tbody>\n",
       "</table>\n",
       "</div>"
      ],
      "text/plain": [
       "          btc_etc   btc_ltc   btc_eth\n",
       "btc_etc  1.000000  0.858183  0.917553\n",
       "btc_ltc  0.858183  1.000000  0.825271\n",
       "btc_eth  0.917553  0.825271  1.000000"
      ]
     },
     "execution_count": 60,
     "metadata": {},
     "output_type": "execute_result"
    }
   ],
   "source": [
    "df.corr(method='spearman')"
   ]
  },
  {
   "cell_type": "code",
   "execution_count": 59,
   "metadata": {},
   "outputs": [
    {
     "data": {
      "image/png": "[encoded data removed]",
      "text/plain": [
       "<matplotlib.figure.Figure at 0x7f7f37576668>"
      ]
     },
     "metadata": {},
     "output_type": "display_data"
    }
   ],
   "source": [
    "df[['btc_etc', 'btc_eth']].plot()\n",
    "plt.show();"
   ]
  },
  {
   "cell_type": "code",
   "execution_count": null,
   "metadata": {
    "collapsed": true
   },
   "outputs": [],
   "source": []
  }
 ],
 "metadata": {
  "kernelspec": {
   "display_name": "Python 3",
   "language": "python",
   "name": "python3"
  },
  "language_info": {
   "codemirror_mode": {
    "name": "ipython",
    "version": 3
   },
   "file_extension": ".py",
   "mimetype": "text/x-python",
   "name": "python",
   "nbconvert_exporter": "python",
   "pygments_lexer": "ipython3",
   "version": "3.5.3"
  }
 },
 "nbformat": 4,
 "nbformat_minor": 2
}
